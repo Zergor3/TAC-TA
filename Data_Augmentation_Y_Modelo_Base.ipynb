{
  "cells": [
    {
      "cell_type": "markdown",
      "source": [
        "## **Imports**"
      ],
      "metadata": {
        "id": "zFlNgT3IcVKq"
      }
    },
    {
      "cell_type": "code",
      "execution_count": null,
      "metadata": {
        "id": "w4pX12qBa3GG"
      },
      "outputs": [],
      "source": [
        "import math\n",
        "import numpy as np\n",
        "import matplotlib.pyplot as plt\n",
        "from PIL import Image\n",
        "import os\n",
        "from tensorflow.keras.models import Sequential\n",
        "from tensorflow.keras.layers import Dense\n",
        "from tensorflow.keras.optimizers import Adam\n",
        "from tensorflow.keras.applications.resnet50 import ResNet50, preprocess_input\n",
        "from tensorflow.keras.preprocessing.image import ImageDataGenerator\n",
        "from tqdm import tqdm\n",
        "from random import choice\n",
        "from scipy import ndimage\n",
        "from sklearn.model_selection import train_test_split\n",
        "import pandas as pd\n",
        "%matplotlib inline"
      ]
    },
    {
      "cell_type": "code",
      "execution_count": null,
      "metadata": {
        "id": "tUvMdX-bd9_K"
      },
      "outputs": [],
      "source": [
        "%tensorflow_version 2.x\n",
        "from tensorflow.keras import backend as K\n",
        "import tensorflow as tf\n",
        "\n",
        "tf.random.set_seed(0)"
      ]
    },
    {
      "cell_type": "markdown",
      "source": [
        "## **Montar en entorno de trabajo grupal de Drive**"
      ],
      "metadata": {
        "id": "FTGmlJB8ci0y"
      }
    },
    {
      "cell_type": "code",
      "execution_count": null,
      "metadata": {
        "colab": {
          "base_uri": "https://localhost:8080/"
        },
        "id": "t5T8qXQieBH7",
        "outputId": "9ebcac0f-2f46-43ef-b348-bf6de1ddd406"
      },
      "outputs": [
        {
          "output_type": "stream",
          "name": "stdout",
          "text": [
            "Drive already mounted at /content/drive; to attempt to forcibly remount, call drive.mount(\"/content/drive\", force_remount=True).\n"
          ]
        }
      ],
      "source": [
        "from google.colab import drive\n",
        "drive.mount('/content/drive')"
      ]
    },
    {
      "cell_type": "code",
      "execution_count": null,
      "metadata": {
        "colab": {
          "base_uri": "https://localhost:8080/"
        },
        "id": "DZFosIyoeDVo",
        "outputId": "47bec42a-5c9a-425b-95ac-3baba49332ce"
      },
      "outputs": [
        {
          "output_type": "stream",
          "name": "stdout",
          "text": [
            "\u001b[0m\u001b[01;34mdrive\u001b[0m/  \u001b[01;34msample_data\u001b[0m/\n"
          ]
        }
      ],
      "source": [
        "%ls"
      ]
    },
    {
      "cell_type": "code",
      "execution_count": null,
      "metadata": {
        "colab": {
          "base_uri": "https://localhost:8080/"
        },
        "id": "svC4EUbTeFDb",
        "outputId": "f50b1686-9e93-44ae-807b-90ff8775dd35"
      },
      "outputs": [
        {
          "output_type": "stream",
          "name": "stdout",
          "text": [
            "/content/drive/MyDrive/TAC-TA/Data Augmentation\n"
          ]
        }
      ],
      "source": [
        "working_dir = \"/content/drive/MyDrive/TAC-TA/Data Augmentation\"\n",
        "%cd $working_dir"
      ]
    },
    {
      "cell_type": "markdown",
      "source": [
        "## **Lectura de imágenes**"
      ],
      "metadata": {
        "id": "KSFfn-kEcr3m"
      }
    },
    {
      "cell_type": "code",
      "execution_count": null,
      "metadata": {
        "id": "YdBzY0o_tfU4"
      },
      "outputs": [],
      "source": [
        "path = 'Cerebral-Tumor-Images/'"
      ]
    },
    {
      "cell_type": "code",
      "execution_count": null,
      "metadata": {
        "colab": {
          "base_uri": "https://localhost:8080/"
        },
        "id": "h_vbB5JvG5ff",
        "outputId": "0d9a2935-7980-4ce6-e53a-5f53e3d75580"
      },
      "outputs": [
        {
          "output_type": "stream",
          "name": "stdout",
          "text": [
            "glioma_tumor scan with length of: 1000\n",
            "meningioma_tumor scan with length of: 1000\n",
            "no_tumor scan with length of: 1000\n",
            "pituitary_tumor scan with length of: 1000\n"
          ]
        }
      ],
      "source": [
        "glioma_tumor_paths = [(\"./data/glioma_tumor/\" + x) for x in os.listdir(\"./data/glioma_tumor\")]\n",
        "\n",
        "meningioma_tumor_paths = [(\"./data/meningioma_tumor/\" + x) for x in os.listdir(\"./data/meningioma_tumor\")]\n",
        "\n",
        "no_tumor_paths = [(\"./data/no_tumor/\" + x) for x in os.listdir(\"./data/no_tumor\")]\n",
        "\n",
        "pituitary_tumor_paths = [(\"./data/pituitary_tumor/\" + x) for x in os.listdir(\"./data/pituitary_tumor\")]\n",
        "\n",
        "print(\"glioma_tumor scan with length of: {}\".format(len(glioma_tumor_paths)))\n",
        "print(\"meningioma_tumor scan with length of: {}\".format(len(meningioma_tumor_paths)))\n",
        "print(\"no_tumor scan with length of: {}\".format(len(no_tumor_paths)))\n",
        "print(\"pituitary_tumor scan with length of: {}\".format(len(pituitary_tumor_paths)))"
      ]
    },
    {
      "cell_type": "code",
      "execution_count": null,
      "metadata": {
        "colab": {
          "base_uri": "https://localhost:8080/"
        },
        "id": "xZIg4l3eJDK2",
        "outputId": "5ce6cc0d-d2d1-40a2-e73b-a733124cd6b4"
      },
      "outputs": [
        {
          "output_type": "execute_result",
          "data": {
            "text/plain": [
              "['./data/glioma_tumor/gg (190).jpg',\n",
              " './data/glioma_tumor/gg (794).jpg',\n",
              " './data/glioma_tumor/gg (732).jpg',\n",
              " './data/glioma_tumor/gg (468).jpg',\n",
              " './data/glioma_tumor/gg (470).jpg']"
            ]
          },
          "metadata": {},
          "execution_count": 9
        }
      ],
      "source": [
        "glioma_tumor_paths[:5]"
      ]
    },
    {
      "cell_type": "code",
      "execution_count": null,
      "metadata": {
        "colab": {
          "base_uri": "https://localhost:8080/"
        },
        "id": "pVtJlx7wJHBP",
        "outputId": "5df16bf2-af36-4e7e-a398-3f891d1a977b"
      },
      "outputs": [
        {
          "output_type": "execute_result",
          "data": {
            "text/plain": [
              "['./data/meningioma_tumor/m1(171).jpg',\n",
              " './data/meningioma_tumor/m1(131).jpg',\n",
              " './data/meningioma_tumor/m1(114).jpg',\n",
              " './data/meningioma_tumor/m3 (206).jpg',\n",
              " './data/meningioma_tumor/m3 (96).jpg']"
            ]
          },
          "metadata": {},
          "execution_count": 10
        }
      ],
      "source": [
        "meningioma_tumor_paths[:5]"
      ]
    },
    {
      "cell_type": "code",
      "execution_count": null,
      "metadata": {
        "colab": {
          "base_uri": "https://localhost:8080/"
        },
        "id": "BYiss9gHJH2s",
        "outputId": "f0613424-eed5-4407-8d14-0fccc389ff4f"
      },
      "outputs": [
        {
          "output_type": "execute_result",
          "data": {
            "text/plain": [
              "['./data/no_tumor/image(256).jpg',\n",
              " './data/no_tumor/image(295).jpg',\n",
              " './data/no_tumor/image(127).jpg',\n",
              " './data/no_tumor/image(19).jpg',\n",
              " './data/no_tumor/image(400).jpg']"
            ]
          },
          "metadata": {},
          "execution_count": 11
        }
      ],
      "source": [
        "no_tumor_paths[:5]"
      ]
    },
    {
      "cell_type": "code",
      "execution_count": null,
      "metadata": {
        "colab": {
          "base_uri": "https://localhost:8080/"
        },
        "id": "5ve07kEeJIlM",
        "outputId": "92956ec5-dc97-43b5-c2b7-35626a9a61d8"
      },
      "outputs": [
        {
          "output_type": "execute_result",
          "data": {
            "text/plain": [
              "['./data/pituitary_tumor/image(61).jpg',\n",
              " './data/pituitary_tumor/p (544).jpg',\n",
              " './data/pituitary_tumor/p (824).jpg',\n",
              " './data/pituitary_tumor/p (511).jpg',\n",
              " './data/pituitary_tumor/p (658).jpg']"
            ]
          },
          "metadata": {},
          "execution_count": 12
        }
      ],
      "source": [
        "pituitary_tumor_paths[:5]"
      ]
    },
    {
      "cell_type": "markdown",
      "metadata": {
        "id": "Hem7lXlyJ2kz"
      },
      "source": [
        "Asignar las etiquetas a las tomografías computarizadas\n",
        "\n",
        "no_tumor Scans -> 0\n",
        "\n",
        "meningioma_tumor Scans -> 1\n",
        "\n",
        "glioma_tumorglioma_tumor Scans -> 2\n",
        "\n",
        "pituitary_tumor Scans -> 3"
      ]
    },
    {
      "cell_type": "code",
      "execution_count": null,
      "metadata": {
        "id": "DhEWx1L--RxW"
      },
      "outputs": [],
      "source": [
        "preprocess_image = tf.keras.Sequential([\n",
        "  tf.keras.layers.Resizing(224, 224),\n",
        "  tf.keras.layers.Rescaling(1./255)\n",
        "])"
      ]
    },
    {
      "cell_type": "code",
      "execution_count": null,
      "metadata": {
        "id": "GU9bSy82_DO9"
      },
      "outputs": [],
      "source": [
        "data_augmentation = tf.keras.Sequential([\n",
        "  tf.keras.layers.RandomFlip(\"horizontal_and_vertical\"),\n",
        "  tf.keras.layers.RandomRotation(0.2, fill_mode='constant'),\n",
        "  tf.keras.layers.RandomCrop(180,180),\n",
        "  tf.keras.layers.Resizing(224,224),\n",
        "  tf.keras.layers.RandomContrast(0.5)\n",
        "])"
      ]
    },
    {
      "cell_type": "code",
      "execution_count": null,
      "metadata": {
        "id": "HSGXNsZ9Vp9N"
      },
      "outputs": [],
      "source": [
        "def augment_image(path):\n",
        "  im = Image.open(path)\n",
        "  im = im.resize((224, 224))\n",
        "\n",
        "  x = np.asarray(im, np.float32)\n",
        "  x = x[None]\n",
        "\n",
        "  x = data_augmentation(x)\n",
        "\n",
        "  x = x.numpy().reshape(224,224,3)\n",
        "\n",
        "  x = x.astype(np.uint8)\n",
        "\n",
        "  return Image.fromarray(x)"
      ]
    },
    {
      "cell_type": "markdown",
      "metadata": {
        "id": "_ghS1C7DsPME"
      },
      "source": [
        "## **Image Augmentation: Nivelar distribución a 1000 por clase**."
      ]
    },
    {
      "cell_type": "code",
      "execution_count": null,
      "metadata": {
        "id": "V2sb5BfNeVN-"
      },
      "outputs": [],
      "source": [
        "import random\n",
        "\n",
        "for index, img_path in enumerate(random.sample(no_tumor_paths, 1000 - len(no_tumor_paths))):\n",
        "  augmented = augment_image(img_path)\n",
        "  augmented.save('./data/no_tumor/AG_({}).jpg'.format(index+1))"
      ]
    },
    {
      "cell_type": "code",
      "execution_count": null,
      "metadata": {
        "id": "E1m8IO8BpnyY"
      },
      "outputs": [],
      "source": [
        "import random\n",
        "\n",
        "for index, img_path in enumerate(random.sample(glioma_tumor_paths, 1000 - len(glioma_tumor_paths))):\n",
        "  augmented = augment_image(img_path)\n",
        "  augmented.save('./data/glioma_tumor/AG_({}).jpg'.format(index+1))"
      ]
    },
    {
      "cell_type": "code",
      "execution_count": null,
      "metadata": {
        "id": "Ja0bi8yBeCxx"
      },
      "outputs": [],
      "source": [
        "for index, img_path in enumerate(random.sample(meningioma_tumor_paths, 1000 - len(meningioma_tumor_paths))):\n",
        "  augmented = augment_image(img_path)\n",
        "  augmented.save('./data/meningioma_tumor/AG_1({}).jpg'.format(index+1))"
      ]
    },
    {
      "cell_type": "code",
      "execution_count": null,
      "metadata": {
        "id": "x9aFk8MMp4zH"
      },
      "outputs": [],
      "source": [
        "for index, img_path in enumerate(random.sample(pituitary_tumor_paths, 1000 - len(pituitary_tumor_paths))):\n",
        "  augmented = augment_image(img_path)\n",
        "  augmented.save('./data/pituitary_tumor/AG_({}).jpg'.format(index+1))"
      ]
    },
    {
      "cell_type": "markdown",
      "metadata": {
        "id": "NMknIHKTsUbK"
      },
      "source": [
        "## **Lectura de dataset desde directorio**"
      ]
    },
    {
      "cell_type": "code",
      "execution_count": null,
      "metadata": {
        "colab": {
          "base_uri": "https://localhost:8080/"
        },
        "id": "bcCYd1-msTEC",
        "outputId": "d3dc6d30-c43e-4bb6-8365-b0551baa1d52"
      },
      "outputs": [
        {
          "output_type": "stream",
          "name": "stdout",
          "text": [
            "Found 3200 images belonging to 4 classes.\n",
            "Found 800 images belonging to 4 classes.\n"
          ]
        }
      ],
      "source": [
        "img_size = 224\n",
        "batch_size = 64\n",
        "path = 'data'\n",
        "\n",
        "train_datagen = ImageDataGenerator(preprocessing_function=preprocess_image, validation_split=0.2)\n",
        "\n",
        "train_generator = train_datagen.flow_from_directory(\n",
        "    path, \n",
        "    target_size=(img_size, img_size), \n",
        "    shuffle=True, \n",
        "    color_mode=\"rgb\", \n",
        "    class_mode=\"sparse\", \n",
        "    batch_size=batch_size, \n",
        "    subset=\"training\")\n",
        "validation_generator = train_datagen.flow_from_directory(\n",
        "    path, \n",
        "    target_size=(img_size, img_size), \n",
        "    shuffle=False, \n",
        "    color_mode=\"rgb\", \n",
        "    class_mode=\"sparse\", \n",
        "    batch_size=batch_size, \n",
        "    subset=\"validation\")"
      ]
    },
    {
      "cell_type": "markdown",
      "source": [
        "## **Modelo Inicial: Red clásica convolucional de clase**"
      ],
      "metadata": {
        "id": "xMgTLkgKc5Dr"
      }
    },
    {
      "cell_type": "code",
      "execution_count": null,
      "metadata": {
        "colab": {
          "base_uri": "https://localhost:8080/"
        },
        "id": "ESRTZPSXuxpS",
        "outputId": "b94830d5-60ee-4875-c664-ab9c1533fb43"
      },
      "outputs": [
        {
          "output_type": "stream",
          "name": "stdout",
          "text": [
            "Model: \"model\"\n",
            "_________________________________________________________________\n",
            " Layer (type)                Output Shape              Param #   \n",
            "=================================================================\n",
            " input_1 (InputLayer)        [(None, 224, 224, 3)]     0         \n",
            "                                                                 \n",
            " conv2d (Conv2D)             (None, 224, 224, 16)      448       \n",
            "                                                                 \n",
            " max_pooling2d (MaxPooling2D  (None, 112, 112, 16)     0         \n",
            " )                                                               \n",
            "                                                                 \n",
            " re_lu (ReLU)                (None, 112, 112, 16)      0         \n",
            "                                                                 \n",
            " conv2d_1 (Conv2D)           (None, 112, 112, 32)      4640      \n",
            "                                                                 \n",
            " max_pooling2d_1 (MaxPooling  (None, 56, 56, 32)       0         \n",
            " 2D)                                                             \n",
            "                                                                 \n",
            " re_lu_1 (ReLU)              (None, 56, 56, 32)        0         \n",
            "                                                                 \n",
            " conv2d_2 (Conv2D)           (None, 54, 54, 64)        18496     \n",
            "                                                                 \n",
            " re_lu_2 (ReLU)              (None, 54, 54, 64)        0         \n",
            "                                                                 \n",
            " flatten (Flatten)           (None, 186624)            0         \n",
            "                                                                 \n",
            " dense (Dense)               (None, 256)               47776000  \n",
            "                                                                 \n",
            " dense_1 (Dense)             (None, 4)                 1028      \n",
            "                                                                 \n",
            "=================================================================\n",
            "Total params: 47,800,612\n",
            "Trainable params: 47,800,612\n",
            "Non-trainable params: 0\n",
            "_________________________________________________________________\n"
          ]
        }
      ],
      "source": [
        "from tensorflow.keras.models import Sequential\n",
        "from tensorflow.keras.layers import Dense\n",
        "from tensorflow.keras.layers import Input, Conv2D, MaxPool2D, ReLU, Flatten, Dense, BatchNormalization, Dropout #Aquí van el resto de capas que se necesiten para construir el modelo\n",
        "from tensorflow.keras import Model\n",
        "\n",
        "K.clear_session()\n",
        "\n",
        "inputs = Input(shape=(224, 224, 3))\n",
        "\n",
        "convolutional_1 = Conv2D(16, kernel_size=(3,3), padding=\"same\")(inputs)\n",
        "\n",
        "max_pooling_1 = MaxPool2D(pool_size=(2,2))(convolutional_1)\n",
        "\n",
        "relu_1 = ReLU()(max_pooling_1)\n",
        "\n",
        "convolutional_2 = Conv2D(32, kernel_size=(3,3), padding=\"same\")(relu_1)\n",
        "\n",
        "max_pooling_2 = MaxPool2D(pool_size=(2,2))(convolutional_2)\n",
        "\n",
        "relu_2 = ReLU()(max_pooling_2)\n",
        "\n",
        "convolutional_3 = Conv2D(64, kernel_size=(3,3))(relu_2)\n",
        "\n",
        "relu_3 = ReLU()(convolutional_3)\n",
        "\n",
        "flatten = Flatten()(relu_3)\n",
        "\n",
        "dense = Dense(256, activation=\"relu\")(flatten)\n",
        "\n",
        "outputs = Dense(units=4, activation=\"softmax\")(dense)\n",
        "\n",
        "model = Model(inputs=inputs, outputs=outputs)\n",
        "\n",
        "model.compile(optimizer=Adam(0.001), loss=\"sparse_categorical_crossentropy\", metrics=[\"accuracy\"])\n",
        "\n",
        "model.summary()"
      ]
    },
    {
      "cell_type": "code",
      "execution_count": null,
      "metadata": {
        "id": "37-2RWdIveuG"
      },
      "outputs": [],
      "source": [
        "def show_results(log):\n",
        "  loss = log.history['loss']\n",
        "  acc = log.history['accuracy']\n",
        "\n",
        "  val_loss = log.history['val_loss']\n",
        "  val_acc = log.history['val_accuracy']\n",
        "  \n",
        "  fig, axes = plt.subplots(1, 2, figsize=(14,4))\n",
        "  ax1, ax2 = axes\n",
        "\n",
        "  ax1.plot(loss, label='train')\n",
        "  ax1.plot(val_loss, label='test')\n",
        "  \n",
        "  ax1.set_xlabel('epoch'); ax1.set_ylabel('loss')\n",
        "  \n",
        "  ax2.plot(acc, label='train')\n",
        "  ax2.plot(val_acc, label='test')\n",
        "  \n",
        "  ax2.set_xlabel('epoch'); ax2.set_ylabel('accuracy')\n",
        "  \n",
        "  for ax in axes: ax.legend()"
      ]
    },
    {
      "cell_type": "markdown",
      "source": [
        "## **Entrenamiento**"
      ],
      "metadata": {
        "id": "aWWpSB4CdHYA"
      }
    },
    {
      "cell_type": "code",
      "execution_count": null,
      "metadata": {
        "colab": {
          "base_uri": "https://localhost:8080/"
        },
        "id": "c0ahyRijvq4B",
        "outputId": "0efa2dc4-759e-46d9-f906-f567bdf9f583"
      },
      "outputs": [
        {
          "output_type": "stream",
          "name": "stdout",
          "text": [
            "Epoch 1/10\n",
            "50/50 [==============================] - 30s 585ms/step - loss: 1.3678 - accuracy: 0.5675 - val_loss: 2.0719 - val_accuracy: 0.4162\n",
            "Epoch 2/10\n",
            "50/50 [==============================] - 28s 562ms/step - loss: 0.5552 - accuracy: 0.7875 - val_loss: 1.8158 - val_accuracy: 0.5700\n",
            "Epoch 3/10\n",
            "50/50 [==============================] - 28s 562ms/step - loss: 0.2745 - accuracy: 0.9072 - val_loss: 2.5430 - val_accuracy: 0.5512\n",
            "Epoch 4/10\n",
            "50/50 [==============================] - 28s 554ms/step - loss: 0.1242 - accuracy: 0.9594 - val_loss: 2.6238 - val_accuracy: 0.5575\n",
            "Epoch 5/10\n",
            "50/50 [==============================] - 28s 553ms/step - loss: 0.0566 - accuracy: 0.9862 - val_loss: 4.4398 - val_accuracy: 0.6100\n",
            "Epoch 6/10\n",
            "50/50 [==============================] - 28s 553ms/step - loss: 0.0383 - accuracy: 0.9891 - val_loss: 3.7264 - val_accuracy: 0.6075\n",
            "Epoch 7/10\n",
            "50/50 [==============================] - 27s 550ms/step - loss: 0.0236 - accuracy: 0.9937 - val_loss: 5.3765 - val_accuracy: 0.5838\n",
            "Epoch 8/10\n",
            "50/50 [==============================] - 28s 554ms/step - loss: 0.0223 - accuracy: 0.9950 - val_loss: 4.5146 - val_accuracy: 0.5625\n",
            "Epoch 9/10\n",
            "50/50 [==============================] - 27s 550ms/step - loss: 0.0251 - accuracy: 0.9944 - val_loss: 6.1541 - val_accuracy: 0.5675\n",
            "Epoch 10/10\n",
            "50/50 [==============================] - 27s 551ms/step - loss: 0.0153 - accuracy: 0.9959 - val_loss: 4.4162 - val_accuracy: 0.6100\n"
          ]
        }
      ],
      "source": [
        "log = model.fit(train_generator, validation_data=validation_generator, epochs=10)"
      ]
    },
    {
      "cell_type": "code",
      "source": [
        "show_results(log)"
      ],
      "metadata": {
        "colab": {
          "base_uri": "https://localhost:8080/",
          "height": 279
        },
        "id": "pxUi2iAM3pfA",
        "outputId": "ad8c8caa-9d4f-48df-8d0d-0a22745d1e3a"
      },
      "execution_count": null,
      "outputs": [
        {
          "output_type": "display_data",
          "data": {
            "text/plain": [
              "<Figure size 1008x288 with 2 Axes>"
            ],
            "image/png": "[encoded data removed]"
          },
          "metadata": {
            "needs_background": "light"
          }
        }
      ]
    },
    {
      "cell_type": "code",
      "source": [
        "log = model.fit(train_generator, validation_data=validation_generator, epochs=20)"
      ],
      "metadata": {
        "colab": {
          "base_uri": "https://localhost:8080/"
        },
        "id": "j9g2y7UBDUhV",
        "outputId": "bbe3a518-70f1-4bde-ee45-4ca5a078fc14"
      },
      "execution_count": null,
      "outputs": [
        {
          "output_type": "stream",
          "name": "stdout",
          "text": [
            "Epoch 1/20\n",
            "50/50 [==============================] - 28s 554ms/step - loss: 0.0128 - accuracy: 0.9969 - val_loss: 5.2603 - val_accuracy: 0.5788\n",
            "Epoch 2/20\n",
            "50/50 [==============================] - 28s 562ms/step - loss: 0.0179 - accuracy: 0.9944 - val_loss: 6.0794 - val_accuracy: 0.5738\n",
            "Epoch 3/20\n",
            "50/50 [==============================] - 28s 555ms/step - loss: 0.0102 - accuracy: 0.9991 - val_loss: 5.5331 - val_accuracy: 0.5987\n",
            "Epoch 4/20\n",
            "50/50 [==============================] - 28s 555ms/step - loss: 0.0066 - accuracy: 0.9987 - val_loss: 5.8350 - val_accuracy: 0.6125\n",
            "Epoch 5/20\n",
            "50/50 [==============================] - 27s 545ms/step - loss: 0.0091 - accuracy: 0.9991 - val_loss: 5.0239 - val_accuracy: 0.6050\n",
            "Epoch 6/20\n",
            "50/50 [==============================] - 27s 550ms/step - loss: 0.0022 - accuracy: 0.9994 - val_loss: 5.5785 - val_accuracy: 0.5825\n",
            "Epoch 7/20\n",
            "50/50 [==============================] - 27s 548ms/step - loss: 0.0041 - accuracy: 0.9991 - val_loss: 5.6676 - val_accuracy: 0.5863\n",
            "Epoch 8/20\n",
            "50/50 [==============================] - 27s 548ms/step - loss: 0.0021 - accuracy: 0.9994 - val_loss: 5.6985 - val_accuracy: 0.5638\n",
            "Epoch 9/20\n",
            "50/50 [==============================] - 27s 546ms/step - loss: 0.0013 - accuracy: 0.9997 - val_loss: 6.1422 - val_accuracy: 0.5875\n",
            "Epoch 10/20\n",
            "50/50 [==============================] - 27s 546ms/step - loss: 0.0014 - accuracy: 0.9994 - val_loss: 5.8603 - val_accuracy: 0.5962\n",
            "Epoch 11/20\n",
            "50/50 [==============================] - 27s 546ms/step - loss: 0.0011 - accuracy: 0.9994 - val_loss: 6.2120 - val_accuracy: 0.5725\n",
            "Epoch 12/20\n",
            "50/50 [==============================] - 27s 547ms/step - loss: 0.0034 - accuracy: 0.9994 - val_loss: 5.8314 - val_accuracy: 0.5987\n",
            "Epoch 13/20\n",
            "50/50 [==============================] - 27s 548ms/step - loss: 4.5365e-04 - accuracy: 1.0000 - val_loss: 6.2730 - val_accuracy: 0.5738\n",
            "Epoch 14/20\n",
            "50/50 [==============================] - 28s 561ms/step - loss: 2.2143e-04 - accuracy: 1.0000 - val_loss: 6.5572 - val_accuracy: 0.5900\n",
            "Epoch 15/20\n",
            "50/50 [==============================] - 28s 553ms/step - loss: 5.8668e-04 - accuracy: 0.9994 - val_loss: 6.7909 - val_accuracy: 0.5725\n",
            "Epoch 16/20\n",
            "50/50 [==============================] - 27s 550ms/step - loss: 2.0014e-04 - accuracy: 1.0000 - val_loss: 6.9979 - val_accuracy: 0.5763\n",
            "Epoch 17/20\n",
            "50/50 [==============================] - 27s 550ms/step - loss: 0.0028 - accuracy: 0.9994 - val_loss: 5.9929 - val_accuracy: 0.5725\n",
            "Epoch 18/20\n",
            "50/50 [==============================] - 27s 549ms/step - loss: 4.5866e-04 - accuracy: 1.0000 - val_loss: 6.2073 - val_accuracy: 0.5725\n",
            "Epoch 19/20\n",
            "50/50 [==============================] - 28s 552ms/step - loss: 4.8369e-04 - accuracy: 0.9997 - val_loss: 6.5713 - val_accuracy: 0.5813\n",
            "Epoch 20/20\n",
            "50/50 [==============================] - 27s 547ms/step - loss: 7.0060e-04 - accuracy: 0.9994 - val_loss: 6.6686 - val_accuracy: 0.5763\n"
          ]
        }
      ]
    },
    {
      "cell_type": "code",
      "source": [
        "show_results(log)"
      ],
      "metadata": {
        "colab": {
          "base_uri": "https://localhost:8080/",
          "height": 279
        },
        "id": "VaMhQD3jDU-9",
        "outputId": "3daeb145-688b-4110-8fc7-e63ba0e95c4c"
      },
      "execution_count": null,
      "outputs": [
        {
          "output_type": "display_data",
          "data": {
            "text/plain": [
              "<Figure size 1008x288 with 2 Axes>"
            ],
            "image/png": "[encoded data removed]"
          },
          "metadata": {
            "needs_background": "light"
          }
        }
      ]
    },
    {
      "cell_type": "markdown",
      "source": [
        "## **Modelo Inicial Mejorado**"
      ],
      "metadata": {
        "id": "GI7mQwrvdNAN"
      }
    },
    {
      "cell_type": "code",
      "source": [
        "def create_model_v1():\n",
        "\n",
        "  K.clear_session()\n",
        "\n",
        "  inputs = Input(shape=(224, 224, 3))\n",
        "\n",
        "  convolutional_1 = Conv2D(64, kernel_size=(3,3), padding=\"same\", kernel_initializer='he_uniform', use_bias=False, kernel_regularizer='l2')(inputs)\n",
        "\n",
        "  max_pooling_1 = MaxPool2D(pool_size=(2,2))(convolutional_1)\n",
        "\n",
        "  relu_1 = ReLU()(max_pooling_1)\n",
        "\n",
        "  bn_1 = BatchNormalization()(relu_1)\n",
        "\n",
        "  convolutional_2 = Conv2D(64, kernel_size=(3,3), padding=\"same\", kernel_initializer='he_uniform', use_bias=False, kernel_regularizer='l2')(bn_1)\n",
        "\n",
        "  max_pooling_2 = MaxPool2D(pool_size=(2,2))(convolutional_2)\n",
        "\n",
        "  relu_2 = ReLU()(max_pooling_2)\n",
        "\n",
        "  bn_2 = BatchNormalization()(relu_2)\n",
        "\n",
        "  convolutional_3 = Conv2D(64, kernel_size=(3,3), kernel_initializer='he_uniform', use_bias=False, kernel_regularizer='l2')(bn_2)\n",
        "\n",
        "  relu_3 = ReLU()(convolutional_3)\n",
        "\n",
        "  bn_3 = BatchNormalization()(relu_3)\n",
        "\n",
        "  flatten = Flatten()(bn_3)\n",
        "\n",
        "  dense1 = Dense(256, activation=\"relu\", kernel_initializer='he_uniform', kernel_regularizer='l2')(flatten)\n",
        "\n",
        "  dp = Dropout(0.2)(dense1)\n",
        "\n",
        "  dense2 = Dense(256, activation=\"relu\", kernel_initializer='he_uniform', kernel_regularizer='l2')(dp)\n",
        "\n",
        "  outputs = Dense(units=4, kernel_initializer='he_uniform', activation=\"softmax\")(dense2)\n",
        "\n",
        "  return Model(inputs=inputs, outputs=outputs)\n",
        "\n",
        "model = create_model_v1()\n",
        "\n",
        "model.compile(optimizer=Adam(0.001), loss=\"sparse_categorical_crossentropy\", metrics=[\"accuracy\"])\n",
        "\n",
        "model.summary()"
      ],
      "metadata": {
        "colab": {
          "base_uri": "https://localhost:8080/"
        },
        "id": "t1whs-c-67ul",
        "outputId": "cc7c463c-b1c3-47ab-9285-3f3d196f3154"
      },
      "execution_count": null,
      "outputs": [
        {
          "output_type": "stream",
          "name": "stdout",
          "text": [
            "Model: \"model\"\n",
            "_________________________________________________________________\n",
            " Layer (type)                Output Shape              Param #   \n",
            "=================================================================\n",
            " input_1 (InputLayer)        [(None, 224, 224, 3)]     0         \n",
            "                                                                 \n",
            " conv2d (Conv2D)             (None, 224, 224, 64)      1728      \n",
            "                                                                 \n",
            " max_pooling2d (MaxPooling2D  (None, 112, 112, 64)     0         \n",
            " )                                                               \n",
            "                                                                 \n",
            " re_lu (ReLU)                (None, 112, 112, 64)      0         \n",
            "                                                                 \n",
            " batch_normalization (BatchN  (None, 112, 112, 64)     256       \n",
            " ormalization)                                                   \n",
            "                                                                 \n",
            " conv2d_1 (Conv2D)           (None, 112, 112, 64)      36864     \n",
            "                                                                 \n",
            " max_pooling2d_1 (MaxPooling  (None, 56, 56, 64)       0         \n",
            " 2D)                                                             \n",
            "                                                                 \n",
            " re_lu_1 (ReLU)              (None, 56, 56, 64)        0         \n",
            "                                                                 \n",
            " batch_normalization_1 (Batc  (None, 56, 56, 64)       256       \n",
            " hNormalization)                                                 \n",
            "                                                                 \n",
            " conv2d_2 (Conv2D)           (None, 54, 54, 64)        36864     \n",
            "                                                                 \n",
            " re_lu_2 (ReLU)              (None, 54, 54, 64)        0         \n",
            "                                                                 \n",
            " batch_normalization_2 (Batc  (None, 54, 54, 64)       256       \n",
            " hNormalization)                                                 \n",
            "                                                                 \n",
            " flatten (Flatten)           (None, 186624)            0         \n",
            "                                                                 \n",
            " dense (Dense)               (None, 256)               47776000  \n",
            "                                                                 \n",
            " dropout (Dropout)           (None, 256)               0         \n",
            "                                                                 \n",
            " dense_1 (Dense)             (None, 256)               65792     \n",
            "                                                                 \n",
            " dense_2 (Dense)             (None, 4)                 1028      \n",
            "                                                                 \n",
            "=================================================================\n",
            "Total params: 47,919,044\n",
            "Trainable params: 47,918,660\n",
            "Non-trainable params: 384\n",
            "_________________________________________________________________\n"
          ]
        }
      ]
    },
    {
      "cell_type": "code",
      "source": [
        "log = model.fit(train_generator, validation_data=validation_generator, epochs=10)"
      ],
      "metadata": {
        "colab": {
          "base_uri": "https://localhost:8080/"
        },
        "id": "hw8-AqlF8-Kq",
        "outputId": "514b8651-b913-4989-c67e-790cd99da1d4"
      },
      "execution_count": null,
      "outputs": [
        {
          "output_type": "stream",
          "name": "stdout",
          "text": [
            "Epoch 1/10\n",
            "50/50 [==============================] - 31s 611ms/step - loss: 28.5520 - accuracy: 0.5900 - val_loss: 42.0045 - val_accuracy: 0.2625\n",
            "Epoch 2/10\n",
            "50/50 [==============================] - 30s 606ms/step - loss: 21.0404 - accuracy: 0.6209 - val_loss: 30.8744 - val_accuracy: 0.2525\n",
            "Epoch 3/10\n",
            "50/50 [==============================] - 31s 612ms/step - loss: 15.0159 - accuracy: 0.6881 - val_loss: 21.3777 - val_accuracy: 0.2612\n",
            "Epoch 4/10\n",
            "50/50 [==============================] - 30s 598ms/step - loss: 12.1423 - accuracy: 0.7081 - val_loss: 23.9665 - val_accuracy: 0.2675\n",
            "Epoch 5/10\n",
            "50/50 [==============================] - 30s 598ms/step - loss: 11.1064 - accuracy: 0.7266 - val_loss: 35.2815 - val_accuracy: 0.2562\n",
            "Epoch 6/10\n",
            "50/50 [==============================] - 30s 600ms/step - loss: 11.3094 - accuracy: 0.7250 - val_loss: 20.3303 - val_accuracy: 0.3525\n",
            "Epoch 7/10\n",
            "50/50 [==============================] - 30s 608ms/step - loss: 11.5440 - accuracy: 0.7256 - val_loss: 21.2439 - val_accuracy: 0.3562\n",
            "Epoch 8/10\n",
            "50/50 [==============================] - 30s 609ms/step - loss: 12.4878 - accuracy: 0.7025 - val_loss: 36.8790 - val_accuracy: 0.4300\n",
            "Epoch 9/10\n",
            "50/50 [==============================] - 30s 599ms/step - loss: 11.4650 - accuracy: 0.7525 - val_loss: 27.4625 - val_accuracy: 0.4087\n",
            "Epoch 10/10\n",
            "50/50 [==============================] - 30s 603ms/step - loss: 10.3530 - accuracy: 0.7603 - val_loss: 17.2615 - val_accuracy: 0.4212\n"
          ]
        }
      ]
    },
    {
      "cell_type": "code",
      "source": [
        "show_results(log)"
      ],
      "metadata": {
        "colab": {
          "base_uri": "https://localhost:8080/",
          "height": 279
        },
        "id": "XT_b1r_B-0m3",
        "outputId": "661134b2-1042-49fb-d384-a88cbda7d3c9"
      },
      "execution_count": null,
      "outputs": [
        {
          "output_type": "display_data",
          "data": {
            "text/plain": [
              "<Figure size 1008x288 with 2 Axes>"
            ],
            "image/png": "[encoded data removed]"
          },
          "metadata": {
            "needs_background": "light"
          }
        }
      ]
    },
    {
      "cell_type": "code",
      "source": [
        "log = model.fit(train_generator, validation_data=validation_generator, epochs=10)"
      ],
      "metadata": {
        "colab": {
          "base_uri": "https://localhost:8080/"
        },
        "id": "_bJsaVnW_V1H",
        "outputId": "f77fea04-ae85-4860-a6aa-e70f036329d6"
      },
      "execution_count": null,
      "outputs": [
        {
          "output_type": "stream",
          "name": "stdout",
          "text": [
            "Epoch 1/10\n",
            "50/50 [==============================] - 30s 608ms/step - loss: 10.0150 - accuracy: 0.8012 - val_loss: 25.9968 - val_accuracy: 0.4313\n",
            "Epoch 2/10\n",
            "50/50 [==============================] - 30s 596ms/step - loss: 9.2987 - accuracy: 0.8188 - val_loss: 18.9252 - val_accuracy: 0.4863\n",
            "Epoch 3/10\n",
            "50/50 [==============================] - 30s 608ms/step - loss: 10.3197 - accuracy: 0.7947 - val_loss: 24.4847 - val_accuracy: 0.5213\n",
            "Epoch 4/10\n",
            "50/50 [==============================] - 30s 594ms/step - loss: 10.5981 - accuracy: 0.8188 - val_loss: 72.0970 - val_accuracy: 0.5025\n",
            "Epoch 5/10\n",
            "50/50 [==============================] - 30s 596ms/step - loss: 7.7621 - accuracy: 0.8678 - val_loss: 28.3146 - val_accuracy: 0.5175\n",
            "Epoch 6/10\n",
            "50/50 [==============================] - 30s 593ms/step - loss: 6.5274 - accuracy: 0.8853 - val_loss: 21.2623 - val_accuracy: 0.4187\n",
            "Epoch 7/10\n",
            "50/50 [==============================] - 30s 601ms/step - loss: 7.4324 - accuracy: 0.8687 - val_loss: 22.4016 - val_accuracy: 0.5350\n",
            "Epoch 8/10\n",
            "50/50 [==============================] - 30s 594ms/step - loss: 8.5389 - accuracy: 0.8453 - val_loss: 25.3349 - val_accuracy: 0.3800\n",
            "Epoch 9/10\n",
            "50/50 [==============================] - 30s 594ms/step - loss: 8.1032 - accuracy: 0.8681 - val_loss: 23.9658 - val_accuracy: 0.5000\n",
            "Epoch 10/10\n",
            "50/50 [==============================] - 30s 593ms/step - loss: 6.5928 - accuracy: 0.9050 - val_loss: 22.3251 - val_accuracy: 0.4625\n"
          ]
        }
      ]
    },
    {
      "cell_type": "code",
      "source": [
        "show_results(log)"
      ],
      "metadata": {
        "colab": {
          "base_uri": "https://localhost:8080/",
          "height": 279
        },
        "id": "QRt0VI8eAuBw",
        "outputId": "3aa9fab3-ce53-4225-aecc-7f9dbe0e1b8f"
      },
      "execution_count": null,
      "outputs": [
        {
          "output_type": "display_data",
          "data": {
            "text/plain": [
              "<Figure size 1008x288 with 2 Axes>"
            ],
            "image/png": "[encoded data removed]"
          },
          "metadata": {
            "needs_background": "light"
          }
        }
      ]
    },
    {
      "cell_type": "code",
      "source": [
        "log = model.fit(train_generator, validation_data=validation_generator, epochs=10)"
      ],
      "metadata": {
        "colab": {
          "base_uri": "https://localhost:8080/"
        },
        "id": "osKSi2xQAvIk",
        "outputId": "eedb0b40-5f7a-459a-c717-2921f0bcb360"
      },
      "execution_count": null,
      "outputs": [
        {
          "output_type": "stream",
          "name": "stdout",
          "text": [
            "Epoch 1/10\n",
            "50/50 [==============================] - 31s 615ms/step - loss: 6.1767 - accuracy: 0.9181 - val_loss: 29.0005 - val_accuracy: 0.4450\n",
            "Epoch 2/10\n",
            "50/50 [==============================] - 31s 615ms/step - loss: 7.0919 - accuracy: 0.9109 - val_loss: 21.5687 - val_accuracy: 0.5400\n",
            "Epoch 3/10\n",
            "50/50 [==============================] - 30s 597ms/step - loss: 6.3352 - accuracy: 0.9191 - val_loss: 26.1778 - val_accuracy: 0.5000\n",
            "Epoch 4/10\n",
            "50/50 [==============================] - 30s 591ms/step - loss: 8.3832 - accuracy: 0.8956 - val_loss: 21.3658 - val_accuracy: 0.5362\n",
            "Epoch 5/10\n",
            "50/50 [==============================] - 31s 620ms/step - loss: 6.3045 - accuracy: 0.9353 - val_loss: 15.9482 - val_accuracy: 0.5725\n",
            "Epoch 6/10\n",
            "50/50 [==============================] - 30s 593ms/step - loss: 4.7933 - accuracy: 0.9563 - val_loss: 9.3908 - val_accuracy: 0.5725\n",
            "Epoch 7/10\n",
            "50/50 [==============================] - 30s 592ms/step - loss: 4.0123 - accuracy: 0.9631 - val_loss: 8.1990 - val_accuracy: 0.5800\n",
            "Epoch 8/10\n",
            "50/50 [==============================] - 30s 593ms/step - loss: 3.8912 - accuracy: 0.9606 - val_loss: 8.6745 - val_accuracy: 0.5850\n",
            "Epoch 9/10\n",
            "50/50 [==============================] - 30s 596ms/step - loss: 3.8174 - accuracy: 0.9528 - val_loss: 10.4659 - val_accuracy: 0.5462\n",
            "Epoch 10/10\n",
            "50/50 [==============================] - 30s 594ms/step - loss: 4.2729 - accuracy: 0.9503 - val_loss: 13.7305 - val_accuracy: 0.5300\n"
          ]
        }
      ]
    },
    {
      "cell_type": "code",
      "source": [
        "show_results(log)"
      ],
      "metadata": {
        "colab": {
          "base_uri": "https://localhost:8080/",
          "height": 281
        },
        "id": "fO5aJN0QBU9W",
        "outputId": "91d6288b-3086-45f9-b22b-eb9dd697cd8b"
      },
      "execution_count": null,
      "outputs": [
        {
          "output_type": "display_data",
          "data": {
            "text/plain": [
              "<Figure size 1008x288 with 2 Axes>"
            ],
            "image/png": "[encoded data removed]"
          },
          "metadata": {
            "needs_background": "light"
          }
        }
      ]
    },
    {
      "cell_type": "code",
      "source": [
        "log = model.fit(train_generator, validation_data=validation_generator, epochs=10)"
      ],
      "metadata": {
        "colab": {
          "base_uri": "https://localhost:8080/"
        },
        "id": "g1Aywew2CA6z",
        "outputId": "37b2d50e-97c6-4518-fa7d-ed16813002a7"
      },
      "execution_count": null,
      "outputs": [
        {
          "output_type": "stream",
          "name": "stdout",
          "text": [
            "Epoch 1/10\n",
            "50/50 [==============================] - 31s 616ms/step - loss: 4.5402 - accuracy: 0.9525 - val_loss: 9.4926 - val_accuracy: 0.5962\n",
            "Epoch 2/10\n",
            "50/50 [==============================] - 30s 594ms/step - loss: 4.3857 - accuracy: 0.9559 - val_loss: 11.3610 - val_accuracy: 0.5425\n",
            "Epoch 3/10\n",
            "50/50 [==============================] - 30s 597ms/step - loss: 3.6511 - accuracy: 0.9616 - val_loss: 7.5339 - val_accuracy: 0.5987\n",
            "Epoch 4/10\n",
            "50/50 [==============================] - 30s 602ms/step - loss: 3.0537 - accuracy: 0.9709 - val_loss: 6.6188 - val_accuracy: 0.5738\n",
            "Epoch 5/10\n",
            "50/50 [==============================] - 30s 600ms/step - loss: 2.9541 - accuracy: 0.9622 - val_loss: 7.7660 - val_accuracy: 0.5600\n",
            "Epoch 6/10\n",
            "50/50 [==============================] - 30s 599ms/step - loss: 2.7740 - accuracy: 0.9681 - val_loss: 6.7470 - val_accuracy: 0.5700\n",
            "Epoch 7/10\n",
            "50/50 [==============================] - 30s 600ms/step - loss: 2.5969 - accuracy: 0.9734 - val_loss: 6.9927 - val_accuracy: 0.5975\n",
            "Epoch 8/10\n",
            "50/50 [==============================] - 30s 597ms/step - loss: 2.7111 - accuracy: 0.9684 - val_loss: 7.9053 - val_accuracy: 0.6150\n",
            "Epoch 9/10\n",
            "50/50 [==============================] - 30s 602ms/step - loss: 2.7081 - accuracy: 0.9609 - val_loss: 7.4996 - val_accuracy: 0.5638\n",
            "Epoch 10/10\n",
            "50/50 [==============================] - 30s 600ms/step - loss: 2.9653 - accuracy: 0.9609 - val_loss: 5.9804 - val_accuracy: 0.6025\n"
          ]
        }
      ]
    },
    {
      "cell_type": "code",
      "source": [
        "show_results(log)"
      ],
      "metadata": {
        "colab": {
          "base_uri": "https://localhost:8080/",
          "height": 279
        },
        "id": "UbYmDdiMCCmn",
        "outputId": "3e35585e-401e-44ae-c9f9-ef1193ef39ea"
      },
      "execution_count": null,
      "outputs": [
        {
          "output_type": "display_data",
          "data": {
            "text/plain": [
              "<Figure size 1008x288 with 2 Axes>"
            ],
            "image/png": "[encoded data removed]"
          },
          "metadata": {
            "needs_background": "light"
          }
        }
      ]
    },
    {
      "cell_type": "code",
      "source": [
        "base_model = ResNet50(include_top=False, input_shape=(224, 224, 3), pooling=\"avg\")\n",
        "base_model.trainable = False\n",
        "base_model.summary()"
      ],
      "metadata": {
        "colab": {
          "base_uri": "https://localhost:8080/"
        },
        "id": "H_V-zlKP6ufR",
        "outputId": "b85420f4-353a-4356-d745-0b036055e60e"
      },
      "execution_count": null,
      "outputs": [
        {
          "output_type": "stream",
          "name": "stdout",
          "text": [
            "Model: \"resnet50\"\n",
            "__________________________________________________________________________________________________\n",
            " Layer (type)                   Output Shape         Param #     Connected to                     \n",
            "==================================================================================================\n",
            " input_1 (InputLayer)           [(None, 224, 224, 3  0           []                               \n",
            "                                )]                                                                \n",
            "                                                                                                  \n",
            " conv1_pad (ZeroPadding2D)      (None, 230, 230, 3)  0           ['input_1[0][0]']                \n",
            "                                                                                                  \n",
            " conv1_conv (Conv2D)            (None, 112, 112, 64  9472        ['conv1_pad[0][0]']              \n",
            "                                )                                                                 \n",
            "                                                                                                  \n",
            " conv1_bn (BatchNormalization)  (None, 112, 112, 64  256         ['conv1_conv[0][0]']             \n",
            "                                )                                                                 \n",
            "                                                                                                  \n",
            " conv1_relu (Activation)        (None, 112, 112, 64  0           ['conv1_bn[0][0]']               \n",
            "                                )                                                                 \n",
            "                                                                                                  \n",
            " pool1_pad (ZeroPadding2D)      (None, 114, 114, 64  0           ['conv1_relu[0][0]']             \n",
            "                                )                                                                 \n",
            "                                                                                                  \n",
            " pool1_pool (MaxPooling2D)      (None, 56, 56, 64)   0           ['pool1_pad[0][0]']              \n",
            "                                                                                                  \n",
            " conv2_block1_1_conv (Conv2D)   (None, 56, 56, 64)   4160        ['pool1_pool[0][0]']             \n",
            "                                                                                                  \n",
            " conv2_block1_1_bn (BatchNormal  (None, 56, 56, 64)  256         ['conv2_block1_1_conv[0][0]']    \n",
            " ization)                                                                                         \n",
            "                                                                                                  \n",
            " conv2_block1_1_relu (Activatio  (None, 56, 56, 64)  0           ['conv2_block1_1_bn[0][0]']      \n",
            " n)                                                                                               \n",
            "                                                                                                  \n",
            " conv2_block1_2_conv (Conv2D)   (None, 56, 56, 64)   36928       ['conv2_block1_1_relu[0][0]']    \n",
            "                                                                                                  \n",
            " conv2_block1_2_bn (BatchNormal  (None, 56, 56, 64)  256         ['conv2_block1_2_conv[0][0]']    \n",
            " ization)                                                                                         \n",
            "                                                                                                  \n",
            " conv2_block1_2_relu (Activatio  (None, 56, 56, 64)  0           ['conv2_block1_2_bn[0][0]']      \n",
            " n)                                                                                               \n",
            "                                                                                                  \n",
            " conv2_block1_0_conv (Conv2D)   (None, 56, 56, 256)  16640       ['pool1_pool[0][0]']             \n",
            "                                                                                                  \n",
            " conv2_block1_3_conv (Conv2D)   (None, 56, 56, 256)  16640       ['conv2_block1_2_relu[0][0]']    \n",
            "                                                                                                  \n",
            " conv2_block1_0_bn (BatchNormal  (None, 56, 56, 256)  1024       ['conv2_block1_0_conv[0][0]']    \n",
            " ization)                                                                                         \n",
            "                                                                                                  \n",
            " conv2_block1_3_bn (BatchNormal  (None, 56, 56, 256)  1024       ['conv2_block1_3_conv[0][0]']    \n",
            " ization)                                                                                         \n",
            "                                                                                                  \n",
            " conv2_block1_add (Add)         (None, 56, 56, 256)  0           ['conv2_block1_0_bn[0][0]',      \n",
            "                                                                  'conv2_block1_3_bn[0][0]']      \n",
            "                                                                                                  \n",
            " conv2_block1_out (Activation)  (None, 56, 56, 256)  0           ['conv2_block1_add[0][0]']       \n",
            "                                                                                                  \n",
            " conv2_block2_1_conv (Conv2D)   (None, 56, 56, 64)   16448       ['conv2_block1_out[0][0]']       \n",
            "                                                                                                  \n",
            " conv2_block2_1_bn (BatchNormal  (None, 56, 56, 64)  256         ['conv2_block2_1_conv[0][0]']    \n",
            " ization)                                                                                         \n",
            "                                                                                                  \n",
            " conv2_block2_1_relu (Activatio  (None, 56, 56, 64)  0           ['conv2_block2_1_bn[0][0]']      \n",
            " n)                                                                                               \n",
            "                                                                                                  \n",
            " conv2_block2_2_conv (Conv2D)   (None, 56, 56, 64)   36928       ['conv2_block2_1_relu[0][0]']    \n",
            "                                                                                                  \n",
            " conv2_block2_2_bn (BatchNormal  (None, 56, 56, 64)  256         ['conv2_block2_2_conv[0][0]']    \n",
            " ization)                                                                                         \n",
            "                                                                                                  \n",
            " conv2_block2_2_relu (Activatio  (None, 56, 56, 64)  0           ['conv2_block2_2_bn[0][0]']      \n",
            " n)                                                                                               \n",
            "                                                                                                  \n",
            " conv2_block2_3_conv (Conv2D)   (None, 56, 56, 256)  16640       ['conv2_block2_2_relu[0][0]']    \n",
            "                                                                                                  \n",
            " conv2_block2_3_bn (BatchNormal  (None, 56, 56, 256)  1024       ['conv2_block2_3_conv[0][0]']    \n",
            " ization)                                                                                         \n",
            "                                                                                                  \n",
            " conv2_block2_add (Add)         (None, 56, 56, 256)  0           ['conv2_block1_out[0][0]',       \n",
            "                                                                  'conv2_block2_3_bn[0][0]']      \n",
            "                                                                                                  \n",
            " conv2_block2_out (Activation)  (None, 56, 56, 256)  0           ['conv2_block2_add[0][0]']       \n",
            "                                                                                                  \n",
            " conv2_block3_1_conv (Conv2D)   (None, 56, 56, 64)   16448       ['conv2_block2_out[0][0]']       \n",
            "                                                                                                  \n",
            " conv2_block3_1_bn (BatchNormal  (None, 56, 56, 64)  256         ['conv2_block3_1_conv[0][0]']    \n",
            " ization)                                                                                         \n",
            "                                                                                                  \n",
            " conv2_block3_1_relu (Activatio  (None, 56, 56, 64)  0           ['conv2_block3_1_bn[0][0]']      \n",
            " n)                                                                                               \n",
            "                                                                                                  \n",
            " conv2_block3_2_conv (Conv2D)   (None, 56, 56, 64)   36928       ['conv2_block3_1_relu[0][0]']    \n",
            "                                                                                                  \n",
            " conv2_block3_2_bn (BatchNormal  (None, 56, 56, 64)  256         ['conv2_block3_2_conv[0][0]']    \n",
            " ization)                                                                                         \n",
            "                                                                                                  \n",
            " conv2_block3_2_relu (Activatio  (None, 56, 56, 64)  0           ['conv2_block3_2_bn[0][0]']      \n",
            " n)                                                                                               \n",
            "                                                                                                  \n",
            " conv2_block3_3_conv (Conv2D)   (None, 56, 56, 256)  16640       ['conv2_block3_2_relu[0][0]']    \n",
            "                                                                                                  \n",
            " conv2_block3_3_bn (BatchNormal  (None, 56, 56, 256)  1024       ['conv2_block3_3_conv[0][0]']    \n",
            " ization)                                                                                         \n",
            "                                                                                                  \n",
            " conv2_block3_add (Add)         (None, 56, 56, 256)  0           ['conv2_block2_out[0][0]',       \n",
            "                                                                  'conv2_block3_3_bn[0][0]']      \n",
            "                                                                                                  \n",
            " conv2_block3_out (Activation)  (None, 56, 56, 256)  0           ['conv2_block3_add[0][0]']       \n",
            "                                                                                                  \n",
            " conv3_block1_1_conv (Conv2D)   (None, 28, 28, 128)  32896       ['conv2_block3_out[0][0]']       \n",
            "                                                                                                  \n",
            " conv3_block1_1_bn (BatchNormal  (None, 28, 28, 128)  512        ['conv3_block1_1_conv[0][0]']    \n",
            " ization)                                                                                         \n",
            "                                                                                                  \n",
            " conv3_block1_1_relu (Activatio  (None, 28, 28, 128)  0          ['conv3_block1_1_bn[0][0]']      \n",
            " n)                                                                                               \n",
            "                                                                                                  \n",
            " conv3_block1_2_conv (Conv2D)   (None, 28, 28, 128)  147584      ['conv3_block1_1_relu[0][0]']    \n",
            "                                                                                                  \n",
            " conv3_block1_2_bn (BatchNormal  (None, 28, 28, 128)  512        ['conv3_block1_2_conv[0][0]']    \n",
            " ization)                                                                                         \n",
            "                                                                                                  \n",
            " conv3_block1_2_relu (Activatio  (None, 28, 28, 128)  0          ['conv3_block1_2_bn[0][0]']      \n",
            " n)                                                                                               \n",
            "                                                                                                  \n",
            " conv3_block1_0_conv (Conv2D)   (None, 28, 28, 512)  131584      ['conv2_block3_out[0][0]']       \n",
            "                                                                                                  \n",
            " conv3_block1_3_conv (Conv2D)   (None, 28, 28, 512)  66048       ['conv3_block1_2_relu[0][0]']    \n",
            "                                                                                                  \n",
            " conv3_block1_0_bn (BatchNormal  (None, 28, 28, 512)  2048       ['conv3_block1_0_conv[0][0]']    \n",
            " ization)                                                                                         \n",
            "                                                                                                  \n",
            " conv3_block1_3_bn (BatchNormal  (None, 28, 28, 512)  2048       ['conv3_block1_3_conv[0][0]']    \n",
            " ization)                                                                                         \n",
            "                                                                                                  \n",
            " conv3_block1_add (Add)         (None, 28, 28, 512)  0           ['conv3_block1_0_bn[0][0]',      \n",
            "                                                                  'conv3_block1_3_bn[0][0]']      \n",
            "                                                                                                  \n",
            " conv3_block1_out (Activation)  (None, 28, 28, 512)  0           ['conv3_block1_add[0][0]']       \n",
            "                                                                                                  \n",
            " conv3_block2_1_conv (Conv2D)   (None, 28, 28, 128)  65664       ['conv3_block1_out[0][0]']       \n",
            "                                                                                                  \n",
            " conv3_block2_1_bn (BatchNormal  (None, 28, 28, 128)  512        ['conv3_block2_1_conv[0][0]']    \n",
            " ization)                                                                                         \n",
            "                                                                                                  \n",
            " conv3_block2_1_relu (Activatio  (None, 28, 28, 128)  0          ['conv3_block2_1_bn[0][0]']      \n",
            " n)                                                                                               \n",
            "                                                                                                  \n",
            " conv3_block2_2_conv (Conv2D)   (None, 28, 28, 128)  147584      ['conv3_block2_1_relu[0][0]']    \n",
            "                                                                                                  \n",
            " conv3_block2_2_bn (BatchNormal  (None, 28, 28, 128)  512        ['conv3_block2_2_conv[0][0]']    \n",
            " ization)                                                                                         \n",
            "                                                                                                  \n",
            " conv3_block2_2_relu (Activatio  (None, 28, 28, 128)  0          ['conv3_block2_2_bn[0][0]']      \n",
            " n)                                                                                               \n",
            "                                                                                                  \n",
            " conv3_block2_3_conv (Conv2D)   (None, 28, 28, 512)  66048       ['conv3_block2_2_relu[0][0]']    \n",
            "                                                                                                  \n",
            " conv3_block2_3_bn (BatchNormal  (None, 28, 28, 512)  2048       ['conv3_block2_3_conv[0][0]']    \n",
            " ization)                                                                                         \n",
            "                                                                                                  \n",
            " conv3_block2_add (Add)         (None, 28, 28, 512)  0           ['conv3_block1_out[0][0]',       \n",
            "                                                                  'conv3_block2_3_bn[0][0]']      \n",
            "                                                                                                  \n",
            " conv3_block2_out (Activation)  (None, 28, 28, 512)  0           ['conv3_block2_add[0][0]']       \n",
            "                                                                                                  \n",
            " conv3_block3_1_conv (Conv2D)   (None, 28, 28, 128)  65664       ['conv3_block2_out[0][0]']       \n",
            "                                                                                                  \n",
            " conv3_block3_1_bn (BatchNormal  (None, 28, 28, 128)  512        ['conv3_block3_1_conv[0][0]']    \n",
            " ization)                                                                                         \n",
            "                                                                                                  \n",
            " conv3_block3_1_relu (Activatio  (None, 28, 28, 128)  0          ['conv3_block3_1_bn[0][0]']      \n",
            " n)                                                                                               \n",
            "                                                                                                  \n",
            " conv3_block3_2_conv (Conv2D)   (None, 28, 28, 128)  147584      ['conv3_block3_1_relu[0][0]']    \n",
            "                                                                                                  \n",
            " conv3_block3_2_bn (BatchNormal  (None, 28, 28, 128)  512        ['conv3_block3_2_conv[0][0]']    \n",
            " ization)                                                                                         \n",
            "                                                                                                  \n",
            " conv3_block3_2_relu (Activatio  (None, 28, 28, 128)  0          ['conv3_block3_2_bn[0][0]']      \n",
            " n)                                                                                               \n",
            "                                                                                                  \n",
            " conv3_block3_3_conv (Conv2D)   (None, 28, 28, 512)  66048       ['conv3_block3_2_relu[0][0]']    \n",
            "                                                                                                  \n",
            " conv3_block3_3_bn (BatchNormal  (None, 28, 28, 512)  2048       ['conv3_block3_3_conv[0][0]']    \n",
            " ization)                                                                                         \n",
            "                                                                                                  \n",
            " conv3_block3_add (Add)         (None, 28, 28, 512)  0           ['conv3_block2_out[0][0]',       \n",
            "                                                                  'conv3_block3_3_bn[0][0]']      \n",
            "                                                                                                  \n",
            " conv3_block3_out (Activation)  (None, 28, 28, 512)  0           ['conv3_block3_add[0][0]']       \n",
            "                                                                                                  \n",
            " conv3_block4_1_conv (Conv2D)   (None, 28, 28, 128)  65664       ['conv3_block3_out[0][0]']       \n",
            "                                                                                                  \n",
            " conv3_block4_1_bn (BatchNormal  (None, 28, 28, 128)  512        ['conv3_block4_1_conv[0][0]']    \n",
            " ization)                                                                                         \n",
            "                                                                                                  \n",
            " conv3_block4_1_relu (Activatio  (None, 28, 28, 128)  0          ['conv3_block4_1_bn[0][0]']      \n",
            " n)                                                                                               \n",
            "                                                                                                  \n",
            " conv3_block4_2_conv (Conv2D)   (None, 28, 28, 128)  147584      ['conv3_block4_1_relu[0][0]']    \n",
            "                                                                                                  \n",
            " conv3_block4_2_bn (BatchNormal  (None, 28, 28, 128)  512        ['conv3_block4_2_conv[0][0]']    \n",
            " ization)                                                                                         \n",
            "                                                                                                  \n",
            " conv3_block4_2_relu (Activatio  (None, 28, 28, 128)  0          ['conv3_block4_2_bn[0][0]']      \n",
            " n)                                                                                               \n",
            "                                                                                                  \n",
            " conv3_block4_3_conv (Conv2D)   (None, 28, 28, 512)  66048       ['conv3_block4_2_relu[0][0]']    \n",
            "                                                                                                  \n",
            " conv3_block4_3_bn (BatchNormal  (None, 28, 28, 512)  2048       ['conv3_block4_3_conv[0][0]']    \n",
            " ization)                                                                                         \n",
            "                                                                                                  \n",
            " conv3_block4_add (Add)         (None, 28, 28, 512)  0           ['conv3_block3_out[0][0]',       \n",
            "                                                                  'conv3_block4_3_bn[0][0]']      \n",
            "                                                                                                  \n",
            " conv3_block4_out (Activation)  (None, 28, 28, 512)  0           ['conv3_block4_add[0][0]']       \n",
            "                                                                                                  \n",
            " conv4_block1_1_conv (Conv2D)   (None, 14, 14, 256)  131328      ['conv3_block4_out[0][0]']       \n",
            "                                                                                                  \n",
            " conv4_block1_1_bn (BatchNormal  (None, 14, 14, 256)  1024       ['conv4_block1_1_conv[0][0]']    \n",
            " ization)                                                                                         \n",
            "                                                                                                  \n",
            " conv4_block1_1_relu (Activatio  (None, 14, 14, 256)  0          ['conv4_block1_1_bn[0][0]']      \n",
            " n)                                                                                               \n",
            "                                                                                                  \n",
            " conv4_block1_2_conv (Conv2D)   (None, 14, 14, 256)  590080      ['conv4_block1_1_relu[0][0]']    \n",
            "                                                                                                  \n",
            " conv4_block1_2_bn (BatchNormal  (None, 14, 14, 256)  1024       ['conv4_block1_2_conv[0][0]']    \n",
            " ization)                                                                                         \n",
            "                                                                                                  \n",
            " conv4_block1_2_relu (Activatio  (None, 14, 14, 256)  0          ['conv4_block1_2_bn[0][0]']      \n",
            " n)                                                                                               \n",
            "                                                                                                  \n",
            " conv4_block1_0_conv (Conv2D)   (None, 14, 14, 1024  525312      ['conv3_block4_out[0][0]']       \n",
            "                                )                                                                 \n",
            "                                                                                                  \n",
            " conv4_block1_3_conv (Conv2D)   (None, 14, 14, 1024  263168      ['conv4_block1_2_relu[0][0]']    \n",
            "                                )                                                                 \n",
            "                                                                                                  \n",
            " conv4_block1_0_bn (BatchNormal  (None, 14, 14, 1024  4096       ['conv4_block1_0_conv[0][0]']    \n",
            " ization)                       )                                                                 \n",
            "                                                                                                  \n",
            " conv4_block1_3_bn (BatchNormal  (None, 14, 14, 1024  4096       ['conv4_block1_3_conv[0][0]']    \n",
            " ization)                       )                                                                 \n",
            "                                                                                                  \n",
            " conv4_block1_add (Add)         (None, 14, 14, 1024  0           ['conv4_block1_0_bn[0][0]',      \n",
            "                                )                                 'conv4_block1_3_bn[0][0]']      \n",
            "                                                                                                  \n",
            " conv4_block1_out (Activation)  (None, 14, 14, 1024  0           ['conv4_block1_add[0][0]']       \n",
            "                                )                                                                 \n",
            "                                                                                                  \n",
            " conv4_block2_1_conv (Conv2D)   (None, 14, 14, 256)  262400      ['conv4_block1_out[0][0]']       \n",
            "                                                                                                  \n",
            " conv4_block2_1_bn (BatchNormal  (None, 14, 14, 256)  1024       ['conv4_block2_1_conv[0][0]']    \n",
            " ization)                                                                                         \n",
            "                                                                                                  \n",
            " conv4_block2_1_relu (Activatio  (None, 14, 14, 256)  0          ['conv4_block2_1_bn[0][0]']      \n",
            " n)                                                                                               \n",
            "                                                                                                  \n",
            " conv4_block2_2_conv (Conv2D)   (None, 14, 14, 256)  590080      ['conv4_block2_1_relu[0][0]']    \n",
            "                                                                                                  \n",
            " conv4_block2_2_bn (BatchNormal  (None, 14, 14, 256)  1024       ['conv4_block2_2_conv[0][0]']    \n",
            " ization)                                                                                         \n",
            "                                                                                                  \n",
            " conv4_block2_2_relu (Activatio  (None, 14, 14, 256)  0          ['conv4_block2_2_bn[0][0]']      \n",
            " n)                                                                                               \n",
            "                                                                                                  \n",
            " conv4_block2_3_conv (Conv2D)   (None, 14, 14, 1024  263168      ['conv4_block2_2_relu[0][0]']    \n",
            "                                )                                                                 \n",
            "                                                                                                  \n",
            " conv4_block2_3_bn (BatchNormal  (None, 14, 14, 1024  4096       ['conv4_block2_3_conv[0][0]']    \n",
            " ization)                       )                                                                 \n",
            "                                                                                                  \n",
            " conv4_block2_add (Add)         (None, 14, 14, 1024  0           ['conv4_block1_out[0][0]',       \n",
            "                                )                                 'conv4_block2_3_bn[0][0]']      \n",
            "                                                                                                  \n",
            " conv4_block2_out (Activation)  (None, 14, 14, 1024  0           ['conv4_block2_add[0][0]']       \n",
            "                                )                                                                 \n",
            "                                                                                                  \n",
            " conv4_block3_1_conv (Conv2D)   (None, 14, 14, 256)  262400      ['conv4_block2_out[0][0]']       \n",
            "                                                                                                  \n",
            " conv4_block3_1_bn (BatchNormal  (None, 14, 14, 256)  1024       ['conv4_block3_1_conv[0][0]']    \n",
            " ization)                                                                                         \n",
            "                                                                                                  \n",
            " conv4_block3_1_relu (Activatio  (None, 14, 14, 256)  0          ['conv4_block3_1_bn[0][0]']      \n",
            " n)                                                                                               \n",
            "                                                                                                  \n",
            " conv4_block3_2_conv (Conv2D)   (None, 14, 14, 256)  590080      ['conv4_block3_1_relu[0][0]']    \n",
            "                                                                                                  \n",
            " conv4_block3_2_bn (BatchNormal  (None, 14, 14, 256)  1024       ['conv4_block3_2_conv[0][0]']    \n",
            " ization)                                                                                         \n",
            "                                                                                                  \n",
            " conv4_block3_2_relu (Activatio  (None, 14, 14, 256)  0          ['conv4_block3_2_bn[0][0]']      \n",
            " n)                                                                                               \n",
            "                                                                                                  \n",
            " conv4_block3_3_conv (Conv2D)   (None, 14, 14, 1024  263168      ['conv4_block3_2_relu[0][0]']    \n",
            "                                )                                                                 \n",
            "                                                                                                  \n",
            " conv4_block3_3_bn (BatchNormal  (None, 14, 14, 1024  4096       ['conv4_block3_3_conv[0][0]']    \n",
            " ization)                       )                                                                 \n",
            "                                                                                                  \n",
            " conv4_block3_add (Add)         (None, 14, 14, 1024  0           ['conv4_block2_out[0][0]',       \n",
            "                                )                                 'conv4_block3_3_bn[0][0]']      \n",
            "                                                                                                  \n",
            " conv4_block3_out (Activation)  (None, 14, 14, 1024  0           ['conv4_block3_add[0][0]']       \n",
            "                                )                                                                 \n",
            "                                                                                                  \n",
            " conv4_block4_1_conv (Conv2D)   (None, 14, 14, 256)  262400      ['conv4_block3_out[0][0]']       \n",
            "                                                                                                  \n",
            " conv4_block4_1_bn (BatchNormal  (None, 14, 14, 256)  1024       ['conv4_block4_1_conv[0][0]']    \n",
            " ization)                                                                                         \n",
            "                                                                                                  \n",
            " conv4_block4_1_relu (Activatio  (None, 14, 14, 256)  0          ['conv4_block4_1_bn[0][0]']      \n",
            " n)                                                                                               \n",
            "                                                                                                  \n",
            " conv4_block4_2_conv (Conv2D)   (None, 14, 14, 256)  590080      ['conv4_block4_1_relu[0][0]']    \n",
            "                                                                                                  \n",
            " conv4_block4_2_bn (BatchNormal  (None, 14, 14, 256)  1024       ['conv4_block4_2_conv[0][0]']    \n",
            " ization)                                                                                         \n",
            "                                                                                                  \n",
            " conv4_block4_2_relu (Activatio  (None, 14, 14, 256)  0          ['conv4_block4_2_bn[0][0]']      \n",
            " n)                                                                                               \n",
            "                                                                                                  \n",
            " conv4_block4_3_conv (Conv2D)   (None, 14, 14, 1024  263168      ['conv4_block4_2_relu[0][0]']    \n",
            "                                )                                                                 \n",
            "                                                                                                  \n",
            " conv4_block4_3_bn (BatchNormal  (None, 14, 14, 1024  4096       ['conv4_block4_3_conv[0][0]']    \n",
            " ization)                       )                                                                 \n",
            "                                                                                                  \n",
            " conv4_block4_add (Add)         (None, 14, 14, 1024  0           ['conv4_block3_out[0][0]',       \n",
            "                                )                                 'conv4_block4_3_bn[0][0]']      \n",
            "                                                                                                  \n",
            " conv4_block4_out (Activation)  (None, 14, 14, 1024  0           ['conv4_block4_add[0][0]']       \n",
            "                                )                                                                 \n",
            "                                                                                                  \n",
            " conv4_block5_1_conv (Conv2D)   (None, 14, 14, 256)  262400      ['conv4_block4_out[0][0]']       \n",
            "                                                                                                  \n",
            " conv4_block5_1_bn (BatchNormal  (None, 14, 14, 256)  1024       ['conv4_block5_1_conv[0][0]']    \n",
            " ization)                                                                                         \n",
            "                                                                                                  \n",
            " conv4_block5_1_relu (Activatio  (None, 14, 14, 256)  0          ['conv4_block5_1_bn[0][0]']      \n",
            " n)                                                                                               \n",
            "                                                                                                  \n",
            " conv4_block5_2_conv (Conv2D)   (None, 14, 14, 256)  590080      ['conv4_block5_1_relu[0][0]']    \n",
            "                                                                                                  \n",
            " conv4_block5_2_bn (BatchNormal  (None, 14, 14, 256)  1024       ['conv4_block5_2_conv[0][0]']    \n",
            " ization)                                                                                         \n",
            "                                                                                                  \n",
            " conv4_block5_2_relu (Activatio  (None, 14, 14, 256)  0          ['conv4_block5_2_bn[0][0]']      \n",
            " n)                                                                                               \n",
            "                                                                                                  \n",
            " conv4_block5_3_conv (Conv2D)   (None, 14, 14, 1024  263168      ['conv4_block5_2_relu[0][0]']    \n",
            "                                )                                                                 \n",
            "                                                                                                  \n",
            " conv4_block5_3_bn (BatchNormal  (None, 14, 14, 1024  4096       ['conv4_block5_3_conv[0][0]']    \n",
            " ization)                       )                                                                 \n",
            "                                                                                                  \n",
            " conv4_block5_add (Add)         (None, 14, 14, 1024  0           ['conv4_block4_out[0][0]',       \n",
            "                                )                                 'conv4_block5_3_bn[0][0]']      \n",
            "                                                                                                  \n",
            " conv4_block5_out (Activation)  (None, 14, 14, 1024  0           ['conv4_block5_add[0][0]']       \n",
            "                                )                                                                 \n",
            "                                                                                                  \n",
            " conv4_block6_1_conv (Conv2D)   (None, 14, 14, 256)  262400      ['conv4_block5_out[0][0]']       \n",
            "                                                                                                  \n",
            " conv4_block6_1_bn (BatchNormal  (None, 14, 14, 256)  1024       ['conv4_block6_1_conv[0][0]']    \n",
            " ization)                                                                                         \n",
            "                                                                                                  \n",
            " conv4_block6_1_relu (Activatio  (None, 14, 14, 256)  0          ['conv4_block6_1_bn[0][0]']      \n",
            " n)                                                                                               \n",
            "                                                                                                  \n",
            " conv4_block6_2_conv (Conv2D)   (None, 14, 14, 256)  590080      ['conv4_block6_1_relu[0][0]']    \n",
            "                                                                                                  \n",
            " conv4_block6_2_bn (BatchNormal  (None, 14, 14, 256)  1024       ['conv4_block6_2_conv[0][0]']    \n",
            " ization)                                                                                         \n",
            "                                                                                                  \n",
            " conv4_block6_2_relu (Activatio  (None, 14, 14, 256)  0          ['conv4_block6_2_bn[0][0]']      \n",
            " n)                                                                                               \n",
            "                                                                                                  \n",
            " conv4_block6_3_conv (Conv2D)   (None, 14, 14, 1024  263168      ['conv4_block6_2_relu[0][0]']    \n",
            "                                )                                                                 \n",
            "                                                                                                  \n",
            " conv4_block6_3_bn (BatchNormal  (None, 14, 14, 1024  4096       ['conv4_block6_3_conv[0][0]']    \n",
            " ization)                       )                                                                 \n",
            "                                                                                                  \n",
            " conv4_block6_add (Add)         (None, 14, 14, 1024  0           ['conv4_block5_out[0][0]',       \n",
            "                                )                                 'conv4_block6_3_bn[0][0]']      \n",
            "                                                                                                  \n",
            " conv4_block6_out (Activation)  (None, 14, 14, 1024  0           ['conv4_block6_add[0][0]']       \n",
            "                                )                                                                 \n",
            "                                                                                                  \n",
            " conv5_block1_1_conv (Conv2D)   (None, 7, 7, 512)    524800      ['conv4_block6_out[0][0]']       \n",
            "                                                                                                  \n",
            " conv5_block1_1_bn (BatchNormal  (None, 7, 7, 512)   2048        ['conv5_block1_1_conv[0][0]']    \n",
            " ization)                                                                                         \n",
            "                                                                                                  \n",
            " conv5_block1_1_relu (Activatio  (None, 7, 7, 512)   0           ['conv5_block1_1_bn[0][0]']      \n",
            " n)                                                                                               \n",
            "                                                                                                  \n",
            " conv5_block1_2_conv (Conv2D)   (None, 7, 7, 512)    2359808     ['conv5_block1_1_relu[0][0]']    \n",
            "                                                                                                  \n",
            " conv5_block1_2_bn (BatchNormal  (None, 7, 7, 512)   2048        ['conv5_block1_2_conv[0][0]']    \n",
            " ization)                                                                                         \n",
            "                                                                                                  \n",
            " conv5_block1_2_relu (Activatio  (None, 7, 7, 512)   0           ['conv5_block1_2_bn[0][0]']      \n",
            " n)                                                                                               \n",
            "                                                                                                  \n",
            " conv5_block1_0_conv (Conv2D)   (None, 7, 7, 2048)   2099200     ['conv4_block6_out[0][0]']       \n",
            "                                                                                                  \n",
            " conv5_block1_3_conv (Conv2D)   (None, 7, 7, 2048)   1050624     ['conv5_block1_2_relu[0][0]']    \n",
            "                                                                                                  \n",
            " conv5_block1_0_bn (BatchNormal  (None, 7, 7, 2048)  8192        ['conv5_block1_0_conv[0][0]']    \n",
            " ization)                                                                                         \n",
            "                                                                                                  \n",
            " conv5_block1_3_bn (BatchNormal  (None, 7, 7, 2048)  8192        ['conv5_block1_3_conv[0][0]']    \n",
            " ization)                                                                                         \n",
            "                                                                                                  \n",
            " conv5_block1_add (Add)         (None, 7, 7, 2048)   0           ['conv5_block1_0_bn[0][0]',      \n",
            "                                                                  'conv5_block1_3_bn[0][0]']      \n",
            "                                                                                                  \n",
            " conv5_block1_out (Activation)  (None, 7, 7, 2048)   0           ['conv5_block1_add[0][0]']       \n",
            "                                                                                                  \n",
            " conv5_block2_1_conv (Conv2D)   (None, 7, 7, 512)    1049088     ['conv5_block1_out[0][0]']       \n",
            "                                                                                                  \n",
            " conv5_block2_1_bn (BatchNormal  (None, 7, 7, 512)   2048        ['conv5_block2_1_conv[0][0]']    \n",
            " ization)                                                                                         \n",
            "                                                                                                  \n",
            " conv5_block2_1_relu (Activatio  (None, 7, 7, 512)   0           ['conv5_block2_1_bn[0][0]']      \n",
            " n)                                                                                               \n",
            "                                                                                                  \n",
            " conv5_block2_2_conv (Conv2D)   (None, 7, 7, 512)    2359808     ['conv5_block2_1_relu[0][0]']    \n",
            "                                                                                                  \n",
            " conv5_block2_2_bn (BatchNormal  (None, 7, 7, 512)   2048        ['conv5_block2_2_conv[0][0]']    \n",
            " ization)                                                                                         \n",
            "                                                                                                  \n",
            " conv5_block2_2_relu (Activatio  (None, 7, 7, 512)   0           ['conv5_block2_2_bn[0][0]']      \n",
            " n)                                                                                               \n",
            "                                                                                                  \n",
            " conv5_block2_3_conv (Conv2D)   (None, 7, 7, 2048)   1050624     ['conv5_block2_2_relu[0][0]']    \n",
            "                                                                                                  \n",
            " conv5_block2_3_bn (BatchNormal  (None, 7, 7, 2048)  8192        ['conv5_block2_3_conv[0][0]']    \n",
            " ization)                                                                                         \n",
            "                                                                                                  \n",
            " conv5_block2_add (Add)         (None, 7, 7, 2048)   0           ['conv5_block1_out[0][0]',       \n",
            "                                                                  'conv5_block2_3_bn[0][0]']      \n",
            "                                                                                                  \n",
            " conv5_block2_out (Activation)  (None, 7, 7, 2048)   0           ['conv5_block2_add[0][0]']       \n",
            "                                                                                                  \n",
            " conv5_block3_1_conv (Conv2D)   (None, 7, 7, 512)    1049088     ['conv5_block2_out[0][0]']       \n",
            "                                                                                                  \n",
            " conv5_block3_1_bn (BatchNormal  (None, 7, 7, 512)   2048        ['conv5_block3_1_conv[0][0]']    \n",
            " ization)                                                                                         \n",
            "                                                                                                  \n",
            " conv5_block3_1_relu (Activatio  (None, 7, 7, 512)   0           ['conv5_block3_1_bn[0][0]']      \n",
            " n)                                                                                               \n",
            "                                                                                                  \n",
            " conv5_block3_2_conv (Conv2D)   (None, 7, 7, 512)    2359808     ['conv5_block3_1_relu[0][0]']    \n",
            "                                                                                                  \n",
            " conv5_block3_2_bn (BatchNormal  (None, 7, 7, 512)   2048        ['conv5_block3_2_conv[0][0]']    \n",
            " ization)                                                                                         \n",
            "                                                                                                  \n",
            " conv5_block3_2_relu (Activatio  (None, 7, 7, 512)   0           ['conv5_block3_2_bn[0][0]']      \n",
            " n)                                                                                               \n",
            "                                                                                                  \n",
            " conv5_block3_3_conv (Conv2D)   (None, 7, 7, 2048)   1050624     ['conv5_block3_2_relu[0][0]']    \n",
            "                                                                                                  \n",
            " conv5_block3_3_bn (BatchNormal  (None, 7, 7, 2048)  8192        ['conv5_block3_3_conv[0][0]']    \n",
            " ization)                                                                                         \n",
            "                                                                                                  \n",
            " conv5_block3_add (Add)         (None, 7, 7, 2048)   0           ['conv5_block2_out[0][0]',       \n",
            "                                                                  'conv5_block3_3_bn[0][0]']      \n",
            "                                                                                                  \n",
            " conv5_block3_out (Activation)  (None, 7, 7, 2048)   0           ['conv5_block3_add[0][0]']       \n",
            "                                                                                                  \n",
            " avg_pool (GlobalAveragePooling  (None, 2048)        0           ['conv5_block3_out[0][0]']       \n",
            " 2D)                                                                                              \n",
            "                                                                                                  \n",
            "==================================================================================================\n",
            "Total params: 23,587,712\n",
            "Trainable params: 0\n",
            "Non-trainable params: 23,587,712\n",
            "__________________________________________________________________________________________________\n"
          ]
        }
      ]
    },
    {
      "cell_type": "code",
      "source": [
        "def create_model_v2(resnet):\n",
        "\n",
        "  tf.random.set_seed(0)\n",
        "\n",
        "  K.clear_session()\n",
        "\n",
        "  input_layer = resnet.input\n",
        "\n",
        "  den_resnet = resnet(input_layer)\n",
        "\n",
        "  dense1 = Dense(512, activation=\"relu\", kernel_initializer='he_uniform', kernel_regularizer='l2')(den_resnet)\n",
        "  dp = Dropout(0.2)(dense1)\n",
        "\n",
        "  dense2 = Dense(256, activation=\"relu\", kernel_initializer='he_uniform', kernel_regularizer='l2')(dp)\n",
        "  dp = Dropout(0.2)(dense2)\n",
        "\n",
        "  outputs = Dense(units=4, kernel_initializer='he_uniform', activation=\"softmax\")(dp)\n",
        "\n",
        "  return Model(inputs=input_layer, outputs=outputs)"
      ],
      "metadata": {
        "id": "54afb9de4iz0"
      },
      "execution_count": null,
      "outputs": []
    },
    {
      "cell_type": "code",
      "source": [
        "model = create_model_v2(base_model)\n",
        "\n",
        "model.compile(optimizer=Adam(0.001), loss=\"sparse_categorical_crossentropy\", metrics=[\"accuracy\"])\n",
        "\n",
        "model.summary()"
      ],
      "metadata": {
        "colab": {
          "base_uri": "https://localhost:8080/"
        },
        "id": "Wn8Zk8cK8l7b",
        "outputId": "29afd913-ffbb-49df-8f2c-b771e46c120d"
      },
      "execution_count": null,
      "outputs": [
        {
          "output_type": "stream",
          "name": "stdout",
          "text": [
            "Model: \"model\"\n",
            "_________________________________________________________________\n",
            " Layer (type)                Output Shape              Param #   \n",
            "=================================================================\n",
            " input_1 (InputLayer)        [(None, 224, 224, 3)]     0         \n",
            "                                                                 \n",
            " resnet50 (Functional)       (None, 2048)              23587712  \n",
            "                                                                 \n",
            " dense (Dense)               (None, 512)               1049088   \n",
            "                                                                 \n",
            " dropout (Dropout)           (None, 512)               0         \n",
            "                                                                 \n",
            " dense_1 (Dense)             (None, 256)               131328    \n",
            "                                                                 \n",
            " dropout_1 (Dropout)         (None, 256)               0         \n",
            "                                                                 \n",
            " dense_2 (Dense)             (None, 4)                 1028      \n",
            "                                                                 \n",
            "=================================================================\n",
            "Total params: 24,769,156\n",
            "Trainable params: 1,181,444\n",
            "Non-trainable params: 23,587,712\n",
            "_________________________________________________________________\n"
          ]
        }
      ]
    },
    {
      "cell_type": "code",
      "source": [
        "log = model.fit(train_generator, validation_data=validation_generator, epochs=10)"
      ],
      "metadata": {
        "colab": {
          "base_uri": "https://localhost:8080/"
        },
        "id": "6fQ2geX7-Won",
        "outputId": "eca8b968-4899-41b8-9611-a6aa66657e92"
      },
      "execution_count": null,
      "outputs": [
        {
          "output_type": "stream",
          "name": "stdout",
          "text": [
            "Epoch 1/10\n",
            "50/50 [==============================] - 713s 14s/step - loss: 15.4080 - accuracy: 0.2925 - val_loss: 13.9076 - val_accuracy: 0.2650\n",
            "Epoch 2/10\n",
            "50/50 [==============================] - 620s 12s/step - loss: 12.7456 - accuracy: 0.3319 - val_loss: 11.6320 - val_accuracy: 0.3475\n",
            "Epoch 3/10\n",
            "50/50 [==============================] - 622s 12s/step - loss: 10.6860 - accuracy: 0.3541 - val_loss: 9.8378 - val_accuracy: 0.3125\n",
            "Epoch 4/10\n",
            "50/50 [==============================] - 626s 13s/step - loss: 9.0231 - accuracy: 0.3891 - val_loss: 8.4072 - val_accuracy: 0.3388\n",
            "Epoch 5/10\n",
            "50/50 [==============================] - 622s 12s/step - loss: 7.7106 - accuracy: 0.4150 - val_loss: 7.2765 - val_accuracy: 0.3388\n",
            "Epoch 6/10\n",
            "50/50 [==============================] - 621s 12s/step - loss: 6.6640 - accuracy: 0.4250 - val_loss: 6.3650 - val_accuracy: 0.3388\n",
            "Epoch 7/10\n",
            "50/50 [==============================] - 624s 13s/step - loss: 5.8178 - accuracy: 0.4494 - val_loss: 5.6492 - val_accuracy: 0.3400\n",
            "Epoch 8/10\n",
            "50/50 [==============================] - 625s 13s/step - loss: 5.1401 - accuracy: 0.4731 - val_loss: 5.0603 - val_accuracy: 0.3713\n",
            "Epoch 9/10\n",
            "50/50 [==============================] - 628s 13s/step - loss: 4.5924 - accuracy: 0.4872 - val_loss: 4.5804 - val_accuracy: 0.3525\n",
            "Epoch 10/10\n",
            "50/50 [==============================] - 622s 12s/step - loss: 4.1435 - accuracy: 0.5053 - val_loss: 4.2360 - val_accuracy: 0.3725\n"
          ]
        }
      ]
    },
    {
      "cell_type": "code",
      "source": [
        "log = model.fit(train_generator, validation_data=validation_generator, epochs=20)"
      ],
      "metadata": {
        "colab": {
          "base_uri": "https://localhost:8080/"
        },
        "id": "5omOyD8xsAZX",
        "outputId": "606cedcd-600e-4a4c-a48c-f20fc3fcb038"
      },
      "execution_count": null,
      "outputs": [
        {
          "output_type": "stream",
          "name": "stdout",
          "text": [
            "Epoch 1/20\n",
            "50/50 [==============================] - 634s 13s/step - loss: 8.3317 - accuracy: 0.3278 - val_loss: 4.0749 - val_accuracy: 0.2988\n",
            "Epoch 2/20\n",
            "50/50 [==============================] - 630s 13s/step - loss: 3.1112 - accuracy: 0.4116 - val_loss: 2.7313 - val_accuracy: 0.3137\n",
            "Epoch 3/20\n",
            "50/50 [==============================] - 645s 13s/step - loss: 2.3066 - accuracy: 0.4156 - val_loss: 2.3436 - val_accuracy: 0.3587\n",
            "Epoch 4/20\n",
            "50/50 [==============================] - 627s 13s/step - loss: 1.9385 - accuracy: 0.4475 - val_loss: 2.1539 - val_accuracy: 0.3237\n",
            "Epoch 5/20\n",
            "50/50 [==============================] - 630s 13s/step - loss: 1.7232 - accuracy: 0.4647 - val_loss: 1.8791 - val_accuracy: 0.3275\n",
            "Epoch 6/20\n",
            "50/50 [==============================] - 647s 13s/step - loss: 1.5776 - accuracy: 0.4834 - val_loss: 1.7944 - val_accuracy: 0.3237\n",
            "Epoch 7/20\n",
            "50/50 [==============================] - 633s 13s/step - loss: 1.4430 - accuracy: 0.5409 - val_loss: 1.8347 - val_accuracy: 0.3688\n",
            "Epoch 8/20\n",
            "50/50 [==============================] - 632s 13s/step - loss: 1.3513 - accuracy: 0.5497 - val_loss: 1.8752 - val_accuracy: 0.3562\n",
            "Epoch 9/20\n",
            "50/50 [==============================] - 626s 13s/step - loss: 1.3176 - accuracy: 0.5353 - val_loss: 1.7670 - val_accuracy: 0.3587\n",
            "Epoch 10/20\n",
            "50/50 [==============================] - 630s 13s/step - loss: 1.2584 - accuracy: 0.5766 - val_loss: 1.9319 - val_accuracy: 0.3125\n",
            "Epoch 11/20\n",
            "50/50 [==============================] - 627s 13s/step - loss: 1.2236 - accuracy: 0.5822 - val_loss: 1.7655 - val_accuracy: 0.3988\n",
            "Epoch 12/20\n",
            "50/50 [==============================] - 625s 13s/step - loss: 1.1969 - accuracy: 0.5947 - val_loss: 1.7477 - val_accuracy: 0.3700\n",
            "Epoch 13/20\n",
            "50/50 [==============================] - 627s 13s/step - loss: 1.1780 - accuracy: 0.5909 - val_loss: 1.7698 - val_accuracy: 0.3675\n",
            "Epoch 14/20\n",
            "50/50 [==============================] - 624s 13s/step - loss: 1.1280 - accuracy: 0.6184 - val_loss: 1.7799 - val_accuracy: 0.3913\n",
            "Epoch 15/20\n",
            "50/50 [==============================] - 620s 12s/step - loss: 1.1292 - accuracy: 0.6159 - val_loss: 1.7084 - val_accuracy: 0.3625\n",
            "Epoch 16/20\n",
            "50/50 [==============================] - 622s 12s/step - loss: 1.1063 - accuracy: 0.6259 - val_loss: 1.7532 - val_accuracy: 0.3988\n",
            "Epoch 17/20\n",
            "50/50 [==============================] - 621s 12s/step - loss: 1.0742 - accuracy: 0.6384 - val_loss: 1.7356 - val_accuracy: 0.3812\n",
            "Epoch 18/20\n",
            "50/50 [==============================] - 621s 12s/step - loss: 1.1049 - accuracy: 0.6231 - val_loss: 1.8569 - val_accuracy: 0.3375\n",
            "Epoch 19/20\n",
            "50/50 [==============================] - 620s 12s/step - loss: 1.0741 - accuracy: 0.6369 - val_loss: 1.8460 - val_accuracy: 0.3388\n",
            "Epoch 20/20\n",
            "50/50 [==============================] - 618s 12s/step - loss: 1.1167 - accuracy: 0.5931 - val_loss: 1.6357 - val_accuracy: 0.3650\n"
          ]
        }
      ]
    }
  ],
  "metadata": {
    "accelerator": "TPU",
    "colab": {
      "collapsed_sections": [],
      "name": "Data Augmentation Y Modelo Base.ipynb",
      "provenance": [],
      "toc_visible": true
    },
    "kernelspec": {
      "display_name": "Python 3",
      "name": "python3"
    },
    "language_info": {
      "name": "python"
    },
    "gpuClass": "standard"
  },
  "nbformat": 4,
  "nbformat_minor": 0
}